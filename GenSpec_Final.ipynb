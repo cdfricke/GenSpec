{
 "cells": [
  {
   "cell_type": "markdown",
   "metadata": {},
   "source": [
    "# ASTRON 3350 Final Project\n",
    "### Project 8: Software Benchmarking\n",
    "Connor Fricke and Nathan Holty  \n",
    "Fricke.59@osu.edu and Holty.1@osu.edu  \n",
    "Last date of Revision: December 7th, 2023"
   ]
  },
  {
   "cell_type": "markdown",
   "metadata": {},
   "source": [
    "## A sketch of the code benchmarking problem\n",
    "\n",
    "Here we rough out a few necessary components for spectrum synthesis.\n",
    "\n",
    "Lots of this will be done in pure python.  A few operations are done\n",
    "with numpy if they are done only once.  It is the operations that are\n",
    "done repeatedly that are the best candidates for code improvments.\n",
    "\n",
    "Even without going all the way to C++, it would be good to replace\n",
    "some pure python operations with numpy array functions and see how\n",
    "much that improves things."
   ]
  },
  {
   "cell_type": "code",
   "execution_count": 1,
   "metadata": {},
   "outputs": [],
   "source": [
    "# Get packages\n",
    "import matplotlib.pyplot as plt\n",
    "import numpy as np"
   ]
  },
  {
   "cell_type": "code",
   "execution_count": 2,
   "metadata": {},
   "outputs": [],
   "source": [
    "# Specify needed items.\n",
    "\n",
    "# Start, end wavelength for the spectrum and number of points\n",
    "startw = 900.       # Angstroms\n",
    "finalw = 2900.\n",
    "nspect = 2048\n",
    "\n",
    "# Number of lines in the spectrum model\n",
    "nlines = 10\n",
    "\n",
    "# Width of each line in gaussian sigma, in Angstroms\n",
    "lsigma = 4.0\n",
    "\n",
    "# Width of halfnormal distribution.  We use a halfnormal distribution\n",
    "# of line depths so most are near zero and only a few are much larger.\n",
    "halfsig = 0.1"
   ]
  },
  {
   "cell_type": "code",
   "execution_count": 3,
   "metadata": {},
   "outputs": [],
   "source": [
    "# Generate a wavelength list for the spectrum.\n",
    "wavels = np.linspace(startw, finalw, nspect, endpoint=True)"
   ]
  },
  {
   "cell_type": "markdown",
   "metadata": {},
   "source": [
    "### We need a list of wavelengths and line depths in order to synthesize a spectrum."
   ]
  },
  {
   "cell_type": "code",
   "execution_count": 4,
   "metadata": {},
   "outputs": [
    {
     "name": "stdout",
     "output_type": "stream",
     "text": [
      "[0.12908742 0.20356893 0.0216305  0.05871624 0.01405919 0.04499715\n",
      " 0.02541998 0.11035373 0.05326108 0.03200053]\n",
      "[2207.93009088 2615.14913408 2329.16039806 2621.77707413 2790.89666927\n",
      " 2139.6295086  2067.9258263  2884.72127534  974.05381118 2023.59244927]\n"
     ]
    }
   ],
   "source": [
    "# We need a list of wavelengths and line depths in order to synthesize a spectrum.\n",
    "# Generate list of line depths and fix up so none are > 1.0\n",
    "# We want the absolute value of a normal distribution\n",
    "\n",
    "depths = np.absolute(np.random.normal(0.0, halfsig, nlines))\n",
    "depths[depths > 1.0] = 1.0\n",
    "print(depths)\n",
    "\n",
    "# Generate a list of line wavelengths, which we take as\n",
    "# uniformly distributed over the spectrum\n",
    "lwaves = np.random.uniform(startw, finalw, nlines)\n",
    "print(lwaves)\n"
   ]
  },
  {
   "cell_type": "markdown",
   "metadata": {},
   "source": [
    "### We start with a blank spectrum, then add on a series of lines."
   ]
  },
  {
   "cell_type": "code",
   "execution_count": 5,
   "metadata": {},
   "outputs": [],
   "source": [
    "# We start with a blank spectrum, then add on a series of lines.\n",
    "# Function to return an I/Io spectrum, meaning a spectrum normalized so\n",
    "# the continuum is 1 everywhere.\n",
    "def blankspec(npts):\n",
    "    \"\"\"\n",
    "    Generate a blank spectrum with a given number of points.\n",
    "\n",
    "    Parameters:\n",
    "    - npts (int): Number of points in the spectrum.\n",
    "\n",
    "    Returns:\n",
    "    - list: A list representing a blank spectrum with each point initialized to 1.0.\n",
    "    \"\"\"\n",
    "    B = [1.0 for n in range(npts)]\n",
    "    return B"
   ]
  },
  {
   "cell_type": "code",
   "execution_count": 6,
   "metadata": {},
   "outputs": [],
   "source": [
    "# Gauss function\n",
    "from numpy import exp\n",
    "def gauss(w, cent, depth, sigma):\n",
    "    \"\"\"\n",
    "    Generate a Gaussian profile for a spectral line.\n",
    "\n",
    "    Parameters:\n",
    "    - w (float): Wavelength values.\n",
    "    - cent (float): Central wavelength of the Gaussian profile.\n",
    "    - depth (float): Depth or amplitude of the Gaussian profile.\n",
    "    - sigma (float): Standard deviation (sigma) of the Gaussian profile.\n",
    "\n",
    "    Returns:\n",
    "    - float: The value of the Gaussian profile at the given wavelength.\n",
    "    \"\"\"\n",
    "    gval = -depth * exp(-(w - cent)**2 / 2.0 / sigma**2)\n",
    "    return gval"
   ]
  },
  {
   "cell_type": "code",
   "execution_count": 7,
   "metadata": {},
   "outputs": [],
   "source": [
    "# Test with a single line\n",
    "linecenter = 2023.9\n",
    "linedepth  = 0.4\n",
    "\n",
    "blank = blankspec(nspect)\n",
    "spect = []\n",
    "for k in range(len(wavels)):\n",
    "    w = wavels[k]\n",
    "    d = gauss(w, linecenter, linedepth, lsigma)\n",
    "    s = blank[k] + d\n",
    "    spect.append(s)"
   ]
  },
  {
   "cell_type": "code",
   "execution_count": 8,
   "metadata": {},
   "outputs": [
    {
     "data": {
      "text/plain": [
       "Text(0, 0.5, 'Spectrum')"
      ]
     },
     "execution_count": 8,
     "metadata": {},
     "output_type": "execute_result"
    },
    {
     "data": {
      "image/png": "[encoded data removed]",
      "text/plain": [
       "<Figure size 432x288 with 1 Axes>"
      ]
     },
     "metadata": {
      "needs_background": "light"
     },
     "output_type": "display_data"
    }
   ],
   "source": [
    "fig, ax = plt.subplots()\n",
    "ax.plot(wavels, spect, 'blue')\n",
    "ax.set_xlabel('Wavelength (Angstrom)')\n",
    "ax.set_ylabel('Spectrum')"
   ]
  },
  {
   "cell_type": "markdown",
   "metadata": {},
   "source": [
    "### How to make a full spectrum.\n",
    "\n",
    "For each line in the line list:\n",
    "- Generate a spectrum with a single line. If there are N lines in the list, you get N spectra.\n",
    "- Multiply all these together."
   ]
  },
  {
   "cell_type": "markdown",
   "metadata": {},
   "source": [
    "#### Approach\n",
    "To do this we can loop over the range in nlines which is the number of lines in each spectrum model. We can then generate a spectrum with a single line by taking the range in the length of the wavelength list. Lastly, we can then multiply them together using the `np.multiply()` function. Below is the code to accomplish this:\n",
    "\n",
    "To do this we include a loop that iterates over each line in the list. Inside the loop, a spectrum with a single line is generated for each line, and then these spectra are multiplied together to create the final spectrum.\n",
    "\n",
    "1. We add the following line before the loop to initialize the total_spectrum with all 1.0s using the defined blankspec definition:\n",
    "```total_spectrum = blankspec(nspect)```\n",
    "2. Then, replace the existing loop for testing a single line with a new loop that iterates over each line in the list. Inside this loop, we generate a spectrum with a single line labled line_spectrum and then multiply it with the total_spectrum using:\n",
    "```line_spectrum = np.multiply(total_spectrum, line_spectrum)```\n",
    "3. Finally, after the loop, we include the necessary code to plot the spectrum if desired."
   ]
  },
  {
   "cell_type": "code",
   "execution_count": 9,
   "metadata": {},
   "outputs": [
    {
     "data": {
      "image/png": "[encoded data removed]",
      "text/plain": [
       "<Figure size 432x288 with 1 Axes>"
      ]
     },
     "metadata": {
      "needs_background": "light"
     },
     "output_type": "display_data"
    }
   ],
   "source": [
    "# Initialize the spectrum with all ones\n",
    "total_spectrum = blankspec(nspect)\n",
    "\n",
    "# Loop over each line, generate a spectrum with a single line, and multiply them together\n",
    "for i in range(nlines):\n",
    "    linecenter = lwaves[i]\n",
    "    linedepth = depths[i]\n",
    "\n",
    "    # Generate a spectrum with a single line\n",
    "    line_spectrum = blankspec(nspect)\n",
    "    for k in range(len(wavels)):\n",
    "        w = wavels[k]\n",
    "        d = gauss(w, linecenter, linedepth, lsigma)\n",
    "        line_spectrum[k] += d\n",
    "\n",
    "    # Multiply the spectra\n",
    "    total_spectrum = np.multiply(total_spectrum, line_spectrum)\n",
    "\n",
    "# Plot the final spectrum\n",
    "fig, ax = plt.subplots()\n",
    "ax.plot(wavels, total_spectrum, 'blue')\n",
    "ax.set_xlabel('Wavelength (Angstrom)')\n",
    "ax.set_ylabel('Spectrum')\n",
    "\n",
    "plt.show()"
   ]
  },
  {
   "cell_type": "markdown",
   "metadata": {},
   "source": [
    "#### Conclusion\n",
    "This code generates a spectrum with multiple lines by multiplying spectra with a single line for each line in the list. The final spectrum is then plotted."
   ]
  },
  {
   "cell_type": "markdown",
   "metadata": {},
   "source": [
    "### Benchmarking\n",
    "#### Approach\n",
    "For measuring performance of the spectral synthesis code, we've introduced a new function named `generate_spectrum`. This function contains the parameters: `start`, `end`, `res`, and `n_lines`, which correspond to the previously used variables `startw`, `finalw`, `nspect`, and `nlines`. These parameters signify the starting and ending wavelengths for the spectrum, the number of data points in the spectrum, and the quantity of spectral lines in the model.\n",
    "\n",
    "The `generate_spectrum` function outputs two critical arrays: `total_spectrum` and `wavels`. The former represents the synthesized spectrum, while the latter holds the corresponding wavelengths. To validate the functionality of this new function, we can conduct a test run with specific inputs 900, 2900, 2048, and 100 for `start`, `end`, `res`, and `n_lines`, respectively. Subsequently, we print the resulting spectrum.\n",
    "\n",
    "For completeness, we have included the necessary packages and functions defined in earlier cells within the notebook. This decision ensures that the following code block contains all essential components for spectrum generation and evaluation."
   ]
  },
  {
   "cell_type": "code",
   "execution_count": 10,
   "metadata": {},
   "outputs": [
    {
     "data": {
      "image/png": "[encoded data removed]",
      "text/plain": [
       "<Figure size 432x288 with 1 Axes>"
      ]
     },
     "metadata": {
      "needs_background": "light"
     },
     "output_type": "display_data"
    }
   ],
   "source": [
    "import matplotlib.pyplot as plt\n",
    "import numpy as np\n",
    "\n",
    "# We start with a blank spectrum, then add on a series of lines.\n",
    "# Function to return an I/Io spectrum, meaning a spectrum normalized so\n",
    "# the continuum is 1 everywhere.\n",
    "def blankspec(npts):\n",
    "    \"\"\"\n",
    "    Generate a blank spectrum with a given number of points.\n",
    "\n",
    "    Parameters:\n",
    "    - npts (int): Number of points in the spectrum.\n",
    "\n",
    "    Returns:\n",
    "    - list: A list representing a blank spectrum with each point initialized to 1.0.\n",
    "    \"\"\"\n",
    "    B = [1.0 for n in range(npts)]\n",
    "    return B\n",
    "\n",
    "# Gauss function\n",
    "from numpy import exp\n",
    "def gauss(w, cent, depth, sigma):\n",
    "    \"\"\"\n",
    "    Generate a Gaussian profile for a spectral line.\n",
    "\n",
    "    Parameters:\n",
    "    - w (float): Wavelength values.\n",
    "    - cent (float): Central wavelength of the Gaussian profile.\n",
    "    - depth (float): Depth or amplitude of the Gaussian profile.\n",
    "    - sigma (float): Standard deviation (sigma) of the Gaussian profile.\n",
    "\n",
    "    Returns:\n",
    "    - float: The value of the Gaussian profile at the given wavelength.\n",
    "    \"\"\"\n",
    "    gval = -depth * exp(-(w - cent)**2 / 2.0 / sigma**2)\n",
    "    return gval\n",
    "\n",
    "# Generate spectrum function \n",
    "def generate_spectrum(start, end, res, n_lines):\n",
    "    \"\"\"\n",
    "    Generate a synthetic spectrum with multiple spectral lines.\n",
    "\n",
    "    Parameters:\n",
    "    - start (float): Starting wavelength of the spectrum (Angstroms).\n",
    "    - end (float): Ending wavelength of the spectrum (Angstroms).\n",
    "    - res (int): Number of points in the spectrum.\n",
    "    - n_lines (int): Number of spectral lines in the model.\n",
    "\n",
    "    Returns:\n",
    "    - tuple: A tuple containing two arrays:\n",
    "        - total_spectrum (numpy.ndarray): The synthesized spectrum.\n",
    "        - wavels (numpy.ndarray): Wavelength array corresponding to the spectrum.\n",
    "    \"\"\"\n",
    "    # Rest of your code goes here\n",
    "    # Start, end wavelength for the spectrum and number of points\n",
    "    startw = start       # Angstroms\n",
    "    finalw = end\n",
    "    nspect = res\n",
    "\n",
    "    # Number of lines in the spectrum model\n",
    "    nlines = n_lines\n",
    "\n",
    "    # Width of each line in gaussian sigma, in Angstroms\n",
    "    lsigma = 4.0\n",
    "\n",
    "    # Width of halfnormal distribution.  We use a halfnormal distribution\n",
    "    # of line depths so most are near zero and only a few are much larger.\n",
    "    halfsig = 0.1\n",
    "\n",
    "    # Generate a wavelength list for the spectrum.\n",
    "    wavels = np.linspace(startw, finalw, nspect, endpoint=True)\n",
    "\n",
    "    # We need a list of wavelengths and line depths in order to synthesize a spectrum.\n",
    "    # Generate list of line depths and fix up so none are > 1.0\n",
    "    # We want the absolute value of a normal distribution\n",
    "\n",
    "    depths = np.absolute(np.random.normal(0.0, halfsig, nlines))\n",
    "    depths[depths > 1.0] = 1.0\n",
    "\n",
    "    # Generate a list of line wavelengths, which we take as\n",
    "    # uniformly distributed over the spectrum\n",
    "    lwaves = np.random.uniform(startw, finalw, nlines)\n",
    "\n",
    "    # Initialize the spectrum with all ones\n",
    "    total_spectrum = blankspec(nspect)\n",
    "\n",
    "    # Loop over each line, generate a spectrum with a single line, and multiply them together\n",
    "    for i in range(nlines):\n",
    "        linecenter = lwaves[i]\n",
    "        linedepth = depths[i]\n",
    "\n",
    "        # Generate a spectrum with a single line\n",
    "        line_spectrum = blankspec(nspect)\n",
    "        for k in range(len(wavels)):\n",
    "            w = wavels[k]\n",
    "            d = gauss(w, linecenter, linedepth, lsigma)\n",
    "            line_spectrum[k] += d\n",
    "\n",
    "        # Multiply the spectra\n",
    "        total_spectrum = np.multiply(total_spectrum, line_spectrum)\n",
    "        \n",
    "    return total_spectrum, wavels\n",
    "\n",
    "results, wavelengths = generate_spectrum(900, 2900, 2048, 100)\n",
    "\n",
    "fig, ax = plt.subplots()\n",
    "ax.plot(wavelengths, results, 'blue')\n",
    "ax.set_xlabel(\"Wavelength (Angstroms)\")\n",
    "ax.set_ylabel(\"Spectrum\")\n",
    "\n",
    "plt.show()"
   ]
  },
  {
   "cell_type": "markdown",
   "metadata": {},
   "source": [
    "### Benchmarking Continued\n",
    "#### Approach Continued\n",
    "Measuring performance benchmarks involves assessing the execution time of your code. In Python, the `timeit` module is commonly used for this purpose. It can be used to measure the time taken for the execution of specific code blocks or functions. \n",
    "\n",
    "To use `timeit`, we need to define a new function named `loop_genspec` which contains the function `generate_spectrum` with the input variables. The purpose of the loop_genspec function is to loop over generate_speectrum 10 times so that timeit can measure how long it takes to run generate_speectrum 10 times. This final time is then averaged for all 10 iterations to get an average run time.\n",
    "\n",
    "Note: The function generate_spectrum could not be directly put into the timeit program because its inital variables could not be included.  i.e. ```total_execution_time = timeit.timeit(generate_spectrum(900, 2900, 2048, 100), number=10)``` Will not work. Instead the following method must be used."
   ]
  },
  {
   "cell_type": "code",
   "execution_count": 11,
   "metadata": {},
   "outputs": [
    {
     "name": "stdout",
     "output_type": "stream",
     "text": [
      "Average Execution Time per Run: 2.062246 seconds\n"
     ]
    }
   ],
   "source": [
    "import timeit\n",
    "\n",
    "# Runs through our algorithm for generating a spectrum 10 times\n",
    "def loop_genspec():\n",
    "    spectra = []\n",
    "    for i in range(11):\n",
    "        spectrum = generate_spectrum(900, 2900, 2048, 100)\n",
    "        spectra.append(spectrum)\n",
    "    return spectra\n",
    "\n",
    "# Measure the time taken to execute loop_genspec 1 time i.e. generate_spectrum() 10 times\n",
    "total_execution_time = timeit.timeit(loop_genspec, number=1)\n",
    "\n",
    "# Calculate the average time per run\n",
    "average_execution_time = total_execution_time / 10\n",
    "\n",
    "# Print the average execution time\n",
    "print(f\"Average Execution Time per Run: {average_execution_time:.6f} seconds\")"
   ]
  },
  {
   "cell_type": "markdown",
   "metadata": {},
   "source": [
    "#### Conclusion\n",
    "The provided code executed the generate_spectrum function 10 times. As a result, it computed and displayed the average execution time per run. Using the initial conditions-900, 2900, 2048, and 100 for startw, finalw, nspect, and nlines, respectively—the calculated average execution time per run was determined to be approximately 2.062246 seconds in Python.\n",
    "\n",
    "This spectrum synthesis algorithm is replicated in C++ using the same input variables. After running the C++ program 10 times and averaging the run times, an average of 0.0216 seconds was obtained. Comparing the two, the C++ executable is an the order of __100x faster__ than Python over an identical algorithm for the given parameters. It is possible that, given even higher numbers of absorption lines within our spectra, we could see an even further increase in performance of C++ in comparison with Python. The main reason for this significant difference is because C++ is a low-level, extremely powerful compiled language, though syntactically complex. For analysis of big data sets, it is conclusive that using a compiled language like C++ or C can speed up analysis tremendously, even if it takes far longer to write the necessary code. _Please see the main.cpp file included in the project folder for documentation on our C++ algorithm_."
   ]
  },
  {
   "cell_type": "code",
   "execution_count": null,
   "metadata": {},
   "outputs": [],
   "source": []
  }
 ],
 "metadata": {
  "kernelspec": {
   "display_name": "Python 3.8 (py38)",
   "language": "python",
   "name": "py38"
  },
  "language_info": {
   "codemirror_mode": {
    "name": "ipython",
    "version": 3
   },
   "file_extension": ".py",
   "mimetype": "text/x-python",
   "name": "python",
   "nbconvert_exporter": "python",
   "pygments_lexer": "ipython3",
   "version": "3.8.5"
  }
 },
 "nbformat": 4,
 "nbformat_minor": 5
}
